{
  "cells": [
    {
      "cell_type": "markdown",
      "metadata": {
        "id": "view-in-github",
        "colab_type": "text"
      },
      "source": [
        "<a href=\"https://colab.research.google.com/github/MedZaafrani/my-project/blob/main/Acne_detectionV1.ipynb\" target=\"_parent\"><img src=\"https://colab.research.google.com/assets/colab-badge.svg\" alt=\"Open In Colab\"/></a>"
      ]
    },
    {
      "cell_type": "code",
      "execution_count": null,
      "metadata": {
        "colab": {
          "base_uri": "https://localhost:8080/"
        },
        "id": "ttkOsVA-xOQr",
        "outputId": "9ca2858d-73ea-4ffb-8ede-990a3605410f"
      },
      "outputs": [
        {
          "name": "stdout",
          "output_type": "stream",
          "text": [
            "Collecting torchinfo\n",
            "  Downloading torchinfo-1.8.0-py3-none-any.whl (23 kB)\n",
            "Installing collected packages: torchinfo\n",
            "Successfully installed torchinfo-1.8.0\n"
          ]
        }
      ],
      "source": [
        "!pip install torchinfo"
      ]
    },
    {
      "cell_type": "code",
      "execution_count": null,
      "metadata": {
        "id": "btRm-7z_xXDv",
        "outputId": "3521dad5-c356-4b77-ea11-15b53de8d17e",
        "colab": {
          "base_uri": "https://localhost:8080/",
          "height": 384
        }
      },
      "outputs": [
        {
          "output_type": "error",
          "ename": "ModuleNotFoundError",
          "evalue": "No module named 'torchinfo'",
          "traceback": [
            "\u001b[0;31m---------------------------------------------------------------------------\u001b[0m",
            "\u001b[0;31mModuleNotFoundError\u001b[0m                       Traceback (most recent call last)",
            "\u001b[0;32m<ipython-input-1-c5e9d81dbd26>\u001b[0m in \u001b[0;36m<cell line: 18>\u001b[0;34m()\u001b[0m\n\u001b[1;32m     16\u001b[0m \u001b[0;32mfrom\u001b[0m \u001b[0mtorch\u001b[0m \u001b[0;32mimport\u001b[0m \u001b[0mnn\u001b[0m\u001b[0;34m,\u001b[0m \u001b[0moptim\u001b[0m\u001b[0;34m\u001b[0m\u001b[0;34m\u001b[0m\u001b[0m\n\u001b[1;32m     17\u001b[0m \u001b[0;32mfrom\u001b[0m \u001b[0mtorch\u001b[0m\u001b[0;34m.\u001b[0m\u001b[0mutils\u001b[0m\u001b[0;34m.\u001b[0m\u001b[0mdata\u001b[0m \u001b[0;32mimport\u001b[0m \u001b[0mDataset\u001b[0m\u001b[0;34m,\u001b[0m \u001b[0mDataLoader\u001b[0m\u001b[0;34m\u001b[0m\u001b[0;34m\u001b[0m\u001b[0m\n\u001b[0;32m---> 18\u001b[0;31m \u001b[0;32mfrom\u001b[0m \u001b[0mtorchinfo\u001b[0m \u001b[0;32mimport\u001b[0m \u001b[0msummary\u001b[0m\u001b[0;34m\u001b[0m\u001b[0;34m\u001b[0m\u001b[0m\n\u001b[0m\u001b[1;32m     19\u001b[0m \u001b[0;32mfrom\u001b[0m \u001b[0mtorchvision\u001b[0m\u001b[0;34m.\u001b[0m\u001b[0mmodels\u001b[0m \u001b[0;32mimport\u001b[0m \u001b[0mvit_b_16\u001b[0m\u001b[0;34m,\u001b[0m \u001b[0mViT_B_16_Weights\u001b[0m\u001b[0;34m\u001b[0m\u001b[0;34m\u001b[0m\u001b[0m\n\u001b[1;32m     20\u001b[0m \u001b[0;34m\u001b[0m\u001b[0m\n",
            "\u001b[0;31mModuleNotFoundError\u001b[0m: No module named 'torchinfo'",
            "",
            "\u001b[0;31m---------------------------------------------------------------------------\u001b[0;32m\nNOTE: If your import is failing due to a missing package, you can\nmanually install dependencies using either !pip or !apt.\n\nTo view examples of installing some common dependencies, click the\n\"Open Examples\" button below.\n\u001b[0;31m---------------------------------------------------------------------------\u001b[0m\n"
          ],
          "errorDetails": {
            "actions": [
              {
                "action": "open_url",
                "actionText": "Open Examples",
                "url": "/notebooks/snippets/importing_libraries.ipynb"
              }
            ]
          }
        }
      ],
      "source": [
        "# Data handling\n",
        "import pandas as pd\n",
        "import numpy as np\n",
        "\n",
        "# Data visualization\n",
        "import matplotlib.pyplot as plt\n",
        "import seaborn as sns\n",
        "import cv2\n",
        "from PIL import Image\n",
        "\n",
        "# Preprocessing\n",
        "from sklearn.model_selection import train_test_split as tts\n",
        "\n",
        "# Torch\n",
        "import torch\n",
        "from torch import nn, optim\n",
        "from torch.utils.data import Dataset, DataLoader\n",
        "from torchinfo import summary\n",
        "from torchvision.models import vit_b_16, ViT_B_16_Weights\n",
        "\n",
        "# Metrics\n",
        "from sklearn.metrics import accuracy_score\n",
        "from sklearn.metrics import confusion_matrix, classification_report\n",
        "\n",
        "# os\n",
        "import os\n",
        "\n",
        "# OrderedDict\n",
        "from collections import OrderedDict\n",
        "\n",
        "# tqdm\n",
        "from tqdm.auto import tqdm\n",
        "\n",
        "# Path\n",
        "from pathlib import Path\n",
        "\n",
        "# random\n",
        "import random\n",
        "\n",
        "# typing\n",
        "from typing import Dict, List\n",
        "\n",
        "# warnings\n",
        "import warnings\n",
        "warnings.filterwarnings(\"ignore\")"
      ]
    },
    {
      "cell_type": "code",
      "execution_count": null,
      "metadata": {
        "colab": {
          "base_uri": "https://localhost:8080/"
        },
        "id": "4CwMPw9lxe9O",
        "outputId": "c61c1574-69f2-4abc-ae7d-7e108216a18c"
      },
      "outputs": [
        {
          "name": "stdout",
          "output_type": "stream",
          "text": [
            "Total Images = 87\n"
          ]
        }
      ],
      "source": [
        "# Total Images\n",
        "IMAGE_PATH = Path(\"/content/drive/MyDrive/archive_9/files/\")\n",
        "\n",
        "IMAGE_PATH_LIST = list(IMAGE_PATH.glob(\"*/*/*.jpg\"))\n",
        "\n",
        "print(f'Total Images = {len(IMAGE_PATH_LIST)}')"
      ]
    },
    {
      "cell_type": "code",
      "execution_count": null,
      "metadata": {
        "colab": {
          "base_uri": "https://localhost:8080/"
        },
        "id": "yt_6dPZSxhJ2",
        "outputId": "967c2675-3dd4-4cfe-be9b-8a4619080acf"
      },
      "outputs": [
        {
          "name": "stdout",
          "output_type": "stream",
          "text": [
            "****************************************\n",
            "           Total Classes = 3\n",
            "****************************************\n",
            "* acne: 30 images\n",
            "* bags: 27 images\n",
            "* redness: 30 images\n"
          ]
        }
      ],
      "source": [
        "# number of images per class.\n",
        "classes = os.listdir(IMAGE_PATH)\n",
        "classes = sorted(classes)\n",
        "\n",
        "print(\"**\" * 20)\n",
        "print(\" \" * 10, f\"Total Classes = {len(classes)}\")\n",
        "print(\"**\" * 20)\n",
        "\n",
        "for c in classes:\n",
        "    total_images_class = list(Path(os.path.join(IMAGE_PATH, c)).glob(\"*/*.jpg\"))\n",
        "    print(f\"* {c}: {len(total_images_class)} images\")"
      ]
    },
    {
      "cell_type": "code",
      "execution_count": null,
      "metadata": {
        "colab": {
          "base_uri": "https://localhost:8080/",
          "height": 1000
        },
        "id": "j-9lrhRFxjpq",
        "outputId": "02ec8c30-6dda-4b68-a15f-8a9144cc66ab"
      },
      "outputs": [],
      "source": [
        "# We view some images for each class.\n",
        "NUM_IMAGES = 3\n",
        "\n",
        "fig, ax = plt.subplots(nrows = len(classes), ncols = NUM_IMAGES, figsize = (10,15))\n",
        "p = 0\n",
        "for c in classes:\n",
        "    total_images_class = list(Path(os.path.join(IMAGE_PATH, c)).glob(\"*/*.jpg\"))\n",
        "    images_selected = random.choices(total_images_class, k = NUM_IMAGES)\n",
        "\n",
        "    for i,img_path in enumerate(images_selected):\n",
        "        img_bgr = cv2.imread(str(img_path))\n",
        "        img_rgb = cv2.cvtColor(img_bgr, cv2.COLOR_BGR2RGB)\n",
        "        ax[p,i].imshow(img_rgb)\n",
        "        ax[p,i].axis(\"off\")\n",
        "        ax[p,i].set_title(f\"Class: {c}\\nShape: {img_rgb.shape}\", fontsize = 8, fontweight = \"bold\", color = \"black\")\n",
        "\n",
        "    p += 1\n",
        "\n",
        "fig.tight_layout()\n",
        "fig.show()"
      ]
    },
    {
      "cell_type": "code",
      "execution_count": null,
      "metadata": {
        "colab": {
          "base_uri": "https://localhost:8080/",
          "height": 206
        },
        "id": "ZNmIlzFRxmhG",
        "outputId": "b34ea533-560c-4347-9f87-33faf3955078"
      },
      "outputs": [
        {
          "data": {
            "application/vnd.google.colaboratory.intrinsic+json": {
              "summary": "{\n  \"name\": \"df_path_and_label\",\n  \"rows\": 87,\n  \"fields\": [\n    {\n      \"column\": \"path\",\n      \"properties\": {\n        \"dtype\": \"string\",\n        \"num_unique_values\": 87,\n        \"samples\": [\n          \"/content/drive/MyDrive/archive_9/files/redness/24/front.jpg\",\n          \"/content/drive/MyDrive/archive_9/files/acne/8/left_side.jpg\",\n          \"/content/drive/MyDrive/archive_9/files/acne/4/left_side.jpg\"\n        ],\n        \"semantic_type\": \"\",\n        \"description\": \"\"\n      }\n    },\n    {\n      \"column\": \"label\",\n      \"properties\": {\n        \"dtype\": \"category\",\n        \"num_unique_values\": 3,\n        \"samples\": [\n          \"acne\",\n          \"bags\",\n          \"redness\"\n        ],\n        \"semantic_type\": \"\",\n        \"description\": \"\"\n      }\n    }\n  ]\n}",
              "type": "dataframe",
              "variable_name": "df_path_and_label"
            },
            "text/html": [
              "\n",
              "  <div id=\"df-99362d78-cd55-4ee2-bc80-a50d2c3477f2\" class=\"colab-df-container\">\n",
              "    <div>\n",
              "<style scoped>\n",
              "    .dataframe tbody tr th:only-of-type {\n",
              "        vertical-align: middle;\n",
              "    }\n",
              "\n",
              "    .dataframe tbody tr th {\n",
              "        vertical-align: top;\n",
              "    }\n",
              "\n",
              "    .dataframe thead th {\n",
              "        text-align: right;\n",
              "    }\n",
              "</style>\n",
              "<table border=\"1\" class=\"dataframe\">\n",
              "  <thead>\n",
              "    <tr style=\"text-align: right;\">\n",
              "      <th></th>\n",
              "      <th>path</th>\n",
              "      <th>label</th>\n",
              "    </tr>\n",
              "  </thead>\n",
              "  <tbody>\n",
              "    <tr>\n",
              "      <th>0</th>\n",
              "      <td>/content/drive/MyDrive/archive_9/files/acne/8/...</td>\n",
              "      <td>acne</td>\n",
              "    </tr>\n",
              "    <tr>\n",
              "      <th>1</th>\n",
              "      <td>/content/drive/MyDrive/archive_9/files/acne/8/...</td>\n",
              "      <td>acne</td>\n",
              "    </tr>\n",
              "    <tr>\n",
              "      <th>2</th>\n",
              "      <td>/content/drive/MyDrive/archive_9/files/acne/8/...</td>\n",
              "      <td>acne</td>\n",
              "    </tr>\n",
              "    <tr>\n",
              "      <th>3</th>\n",
              "      <td>/content/drive/MyDrive/archive_9/files/acne/9/...</td>\n",
              "      <td>acne</td>\n",
              "    </tr>\n",
              "    <tr>\n",
              "      <th>4</th>\n",
              "      <td>/content/drive/MyDrive/archive_9/files/acne/9/...</td>\n",
              "      <td>acne</td>\n",
              "    </tr>\n",
              "  </tbody>\n",
              "</table>\n",
              "</div>\n",
              "    <div class=\"colab-df-buttons\">\n",
              "\n",
              "  <div class=\"colab-df-container\">\n",
              "    <button class=\"colab-df-convert\" onclick=\"convertToInteractive('df-99362d78-cd55-4ee2-bc80-a50d2c3477f2')\"\n",
              "            title=\"Convert this dataframe to an interactive table.\"\n",
              "            style=\"display:none;\">\n",
              "\n",
              "  <svg xmlns=\"http://www.w3.org/2000/svg\" height=\"24px\" viewBox=\"0 -960 960 960\">\n",
              "    <path d=\"M120-120v-720h720v720H120Zm60-500h600v-160H180v160Zm220 220h160v-160H400v160Zm0 220h160v-160H400v160ZM180-400h160v-160H180v160Zm440 0h160v-160H620v160ZM180-180h160v-160H180v160Zm440 0h160v-160H620v160Z\"/>\n",
              "  </svg>\n",
              "    </button>\n",
              "\n",
              "  <style>\n",
              "    .colab-df-container {\n",
              "      display:flex;\n",
              "      gap: 12px;\n",
              "    }\n",
              "\n",
              "    .colab-df-convert {\n",
              "      background-color: #E8F0FE;\n",
              "      border: none;\n",
              "      border-radius: 50%;\n",
              "      cursor: pointer;\n",
              "      display: none;\n",
              "      fill: #1967D2;\n",
              "      height: 32px;\n",
              "      padding: 0 0 0 0;\n",
              "      width: 32px;\n",
              "    }\n",
              "\n",
              "    .colab-df-convert:hover {\n",
              "      background-color: #E2EBFA;\n",
              "      box-shadow: 0px 1px 2px rgba(60, 64, 67, 0.3), 0px 1px 3px 1px rgba(60, 64, 67, 0.15);\n",
              "      fill: #174EA6;\n",
              "    }\n",
              "\n",
              "    .colab-df-buttons div {\n",
              "      margin-bottom: 4px;\n",
              "    }\n",
              "\n",
              "    [theme=dark] .colab-df-convert {\n",
              "      background-color: #3B4455;\n",
              "      fill: #D2E3FC;\n",
              "    }\n",
              "\n",
              "    [theme=dark] .colab-df-convert:hover {\n",
              "      background-color: #434B5C;\n",
              "      box-shadow: 0px 1px 3px 1px rgba(0, 0, 0, 0.15);\n",
              "      filter: drop-shadow(0px 1px 2px rgba(0, 0, 0, 0.3));\n",
              "      fill: #FFFFFF;\n",
              "    }\n",
              "  </style>\n",
              "\n",
              "    <script>\n",
              "      const buttonEl =\n",
              "        document.querySelector('#df-99362d78-cd55-4ee2-bc80-a50d2c3477f2 button.colab-df-convert');\n",
              "      buttonEl.style.display =\n",
              "        google.colab.kernel.accessAllowed ? 'block' : 'none';\n",
              "\n",
              "      async function convertToInteractive(key) {\n",
              "        const element = document.querySelector('#df-99362d78-cd55-4ee2-bc80-a50d2c3477f2');\n",
              "        const dataTable =\n",
              "          await google.colab.kernel.invokeFunction('convertToInteractive',\n",
              "                                                    [key], {});\n",
              "        if (!dataTable) return;\n",
              "\n",
              "        const docLinkHtml = 'Like what you see? Visit the ' +\n",
              "          '<a target=\"_blank\" href=https://colab.research.google.com/notebooks/data_table.ipynb>data table notebook</a>'\n",
              "          + ' to learn more about interactive tables.';\n",
              "        element.innerHTML = '';\n",
              "        dataTable['output_type'] = 'display_data';\n",
              "        await google.colab.output.renderOutput(dataTable, element);\n",
              "        const docLink = document.createElement('div');\n",
              "        docLink.innerHTML = docLinkHtml;\n",
              "        element.appendChild(docLink);\n",
              "      }\n",
              "    </script>\n",
              "  </div>\n",
              "\n",
              "\n",
              "<div id=\"df-a99062b3-a5d4-411d-9d2d-481426625fcb\">\n",
              "  <button class=\"colab-df-quickchart\" onclick=\"quickchart('df-a99062b3-a5d4-411d-9d2d-481426625fcb')\"\n",
              "            title=\"Suggest charts\"\n",
              "            style=\"display:none;\">\n",
              "\n",
              "<svg xmlns=\"http://www.w3.org/2000/svg\" height=\"24px\"viewBox=\"0 0 24 24\"\n",
              "     width=\"24px\">\n",
              "    <g>\n",
              "        <path d=\"M19 3H5c-1.1 0-2 .9-2 2v14c0 1.1.9 2 2 2h14c1.1 0 2-.9 2-2V5c0-1.1-.9-2-2-2zM9 17H7v-7h2v7zm4 0h-2V7h2v10zm4 0h-2v-4h2v4z\"/>\n",
              "    </g>\n",
              "</svg>\n",
              "  </button>\n",
              "\n",
              "<style>\n",
              "  .colab-df-quickchart {\n",
              "      --bg-color: #E8F0FE;\n",
              "      --fill-color: #1967D2;\n",
              "      --hover-bg-color: #E2EBFA;\n",
              "      --hover-fill-color: #174EA6;\n",
              "      --disabled-fill-color: #AAA;\n",
              "      --disabled-bg-color: #DDD;\n",
              "  }\n",
              "\n",
              "  [theme=dark] .colab-df-quickchart {\n",
              "      --bg-color: #3B4455;\n",
              "      --fill-color: #D2E3FC;\n",
              "      --hover-bg-color: #434B5C;\n",
              "      --hover-fill-color: #FFFFFF;\n",
              "      --disabled-bg-color: #3B4455;\n",
              "      --disabled-fill-color: #666;\n",
              "  }\n",
              "\n",
              "  .colab-df-quickchart {\n",
              "    background-color: var(--bg-color);\n",
              "    border: none;\n",
              "    border-radius: 50%;\n",
              "    cursor: pointer;\n",
              "    display: none;\n",
              "    fill: var(--fill-color);\n",
              "    height: 32px;\n",
              "    padding: 0;\n",
              "    width: 32px;\n",
              "  }\n",
              "\n",
              "  .colab-df-quickchart:hover {\n",
              "    background-color: var(--hover-bg-color);\n",
              "    box-shadow: 0 1px 2px rgba(60, 64, 67, 0.3), 0 1px 3px 1px rgba(60, 64, 67, 0.15);\n",
              "    fill: var(--button-hover-fill-color);\n",
              "  }\n",
              "\n",
              "  .colab-df-quickchart-complete:disabled,\n",
              "  .colab-df-quickchart-complete:disabled:hover {\n",
              "    background-color: var(--disabled-bg-color);\n",
              "    fill: var(--disabled-fill-color);\n",
              "    box-shadow: none;\n",
              "  }\n",
              "\n",
              "  .colab-df-spinner {\n",
              "    border: 2px solid var(--fill-color);\n",
              "    border-color: transparent;\n",
              "    border-bottom-color: var(--fill-color);\n",
              "    animation:\n",
              "      spin 1s steps(1) infinite;\n",
              "  }\n",
              "\n",
              "  @keyframes spin {\n",
              "    0% {\n",
              "      border-color: transparent;\n",
              "      border-bottom-color: var(--fill-color);\n",
              "      border-left-color: var(--fill-color);\n",
              "    }\n",
              "    20% {\n",
              "      border-color: transparent;\n",
              "      border-left-color: var(--fill-color);\n",
              "      border-top-color: var(--fill-color);\n",
              "    }\n",
              "    30% {\n",
              "      border-color: transparent;\n",
              "      border-left-color: var(--fill-color);\n",
              "      border-top-color: var(--fill-color);\n",
              "      border-right-color: var(--fill-color);\n",
              "    }\n",
              "    40% {\n",
              "      border-color: transparent;\n",
              "      border-right-color: var(--fill-color);\n",
              "      border-top-color: var(--fill-color);\n",
              "    }\n",
              "    60% {\n",
              "      border-color: transparent;\n",
              "      border-right-color: var(--fill-color);\n",
              "    }\n",
              "    80% {\n",
              "      border-color: transparent;\n",
              "      border-right-color: var(--fill-color);\n",
              "      border-bottom-color: var(--fill-color);\n",
              "    }\n",
              "    90% {\n",
              "      border-color: transparent;\n",
              "      border-bottom-color: var(--fill-color);\n",
              "    }\n",
              "  }\n",
              "</style>\n",
              "\n",
              "  <script>\n",
              "    async function quickchart(key) {\n",
              "      const quickchartButtonEl =\n",
              "        document.querySelector('#' + key + ' button');\n",
              "      quickchartButtonEl.disabled = true;  // To prevent multiple clicks.\n",
              "      quickchartButtonEl.classList.add('colab-df-spinner');\n",
              "      try {\n",
              "        const charts = await google.colab.kernel.invokeFunction(\n",
              "            'suggestCharts', [key], {});\n",
              "      } catch (error) {\n",
              "        console.error('Error during call to suggestCharts:', error);\n",
              "      }\n",
              "      quickchartButtonEl.classList.remove('colab-df-spinner');\n",
              "      quickchartButtonEl.classList.add('colab-df-quickchart-complete');\n",
              "    }\n",
              "    (() => {\n",
              "      let quickchartButtonEl =\n",
              "        document.querySelector('#df-a99062b3-a5d4-411d-9d2d-481426625fcb button');\n",
              "      quickchartButtonEl.style.display =\n",
              "        google.colab.kernel.accessAllowed ? 'block' : 'none';\n",
              "    })();\n",
              "  </script>\n",
              "</div>\n",
              "\n",
              "    </div>\n",
              "  </div>\n"
            ],
            "text/plain": [
              "                                                path label\n",
              "0  /content/drive/MyDrive/archive_9/files/acne/8/...  acne\n",
              "1  /content/drive/MyDrive/archive_9/files/acne/8/...  acne\n",
              "2  /content/drive/MyDrive/archive_9/files/acne/8/...  acne\n",
              "3  /content/drive/MyDrive/archive_9/files/acne/9/...  acne\n",
              "4  /content/drive/MyDrive/archive_9/files/acne/9/...  acne"
            ]
          },
          "execution_count": 7,
          "metadata": {},
          "output_type": "execute_result"
        }
      ],
      "source": [
        "images_path = [None] * len(IMAGE_PATH_LIST)\n",
        "labels = [None] * len(IMAGE_PATH_LIST)\n",
        "\n",
        "for i,image_path in enumerate(IMAGE_PATH_LIST):\n",
        "    images_path[i] = image_path\n",
        "    labels[i] = image_path.parent.parent.stem\n",
        "\n",
        "df_path_and_label = pd.DataFrame({'path':images_path,\n",
        "                                  'label':labels})\n",
        "df_path_and_label.head()"
      ]
    },
    {
      "cell_type": "code",
      "execution_count": null,
      "metadata": {
        "id": "TqCZvxsaxoIW"
      },
      "outputs": [],
      "source": [
        "SEED = 123\n",
        "\n",
        "df_train, df_rest = tts(df_path_and_label,\n",
        "                        test_size = 0.3,\n",
        "                        random_state = SEED,\n",
        "                        stratify = df_path_and_label[\"label\"])\n",
        "\n",
        "df_val, df_test = tts(df_rest,\n",
        "                      test_size = 0.5,\n",
        "                      random_state = SEED,\n",
        "                      stratify = df_rest[\"label\"])"
      ]
    },
    {
      "cell_type": "code",
      "execution_count": null,
      "metadata": {
        "colab": {
          "base_uri": "https://localhost:8080/"
        },
        "id": "R1XE81TBxpnn",
        "outputId": "aaa5b8cf-4d5f-458e-994a-798893fcbbb3"
      },
      "outputs": [
        {
          "data": {
            "text/plain": [
              "{'acne': 0, 'bags': 1, 'redness': 2}"
            ]
          },
          "execution_count": 9,
          "metadata": {},
          "output_type": "execute_result"
        }
      ],
      "source": [
        "# We have to define the mapping of the classes to convert the labels to numbers.\n",
        "label_map = dict(zip(classes, range(0, len(classes))))\n",
        "label_map"
      ]
    },
    {
      "cell_type": "code",
      "execution_count": null,
      "metadata": {
        "colab": {
          "base_uri": "https://localhost:8080/"
        },
        "id": "DGbcf8K9xrXO",
        "outputId": "f50c7ed5-a1e5-4383-c220-bff18c7858f6"
      },
      "outputs": [
        {
          "data": {
            "text/plain": [
              "ImageClassification(\n",
              "    crop_size=[224]\n",
              "    resize_size=[256]\n",
              "    mean=[0.485, 0.456, 0.406]\n",
              "    std=[0.229, 0.224, 0.225]\n",
              "    interpolation=InterpolationMode.BILINEAR\n",
              ")"
            ]
          },
          "execution_count": 10,
          "metadata": {},
          "output_type": "execute_result"
        }
      ],
      "source": [
        "# Now we define the transformations that we are going to apply.\n",
        "weights = ViT_B_16_Weights.DEFAULT\n",
        "auto_transforms = weights.transforms()\n",
        "auto_transforms"
      ]
    },
    {
      "cell_type": "code",
      "execution_count": null,
      "metadata": {
        "id": "3-nCdXtdxtD3"
      },
      "outputs": [],
      "source": [
        "class CustomDataset(Dataset):\n",
        "    def __init__(self, df:pd.DataFrame, transforms, label_map:dict):\n",
        "        self.df = df\n",
        "        self.transforms = transforms\n",
        "        self.label_map = label_map\n",
        "\n",
        "    def __len__(self):\n",
        "        return len(self.df)\n",
        "\n",
        "    def __getitem__(self, idx):\n",
        "        df_new = self.df.copy()\n",
        "        df_new = df_new.reset_index(drop = True)\n",
        "        df_new[\"label\"] = df_new[\"label\"].map(self.label_map)\n",
        "        image_path = df_new.iloc[idx, 0]\n",
        "        image = Image.open(image_path).convert(\"RGB\")\n",
        "        image = self.transforms(image)\n",
        "        label = df_new.iloc[idx, 1]\n",
        "\n",
        "        return image,label"
      ]
    },
    {
      "cell_type": "code",
      "execution_count": null,
      "metadata": {
        "id": "1TPmv4u1xu92"
      },
      "outputs": [],
      "source": [
        "train_dataset = CustomDataset(df_train, auto_transforms, label_map)\n",
        "valid_dataset = CustomDataset(df_val, auto_transforms, label_map)"
      ]
    },
    {
      "cell_type": "code",
      "execution_count": null,
      "metadata": {
        "id": "efx7ti5ixxfW"
      },
      "outputs": [],
      "source": [
        "BATCH_SIZE = 1\n",
        "NUM_WORKERS = os.cpu_count()\n",
        "\n",
        "train_dataloader = DataLoader(dataset = train_dataset,\n",
        "                              batch_size = BATCH_SIZE,\n",
        "                              shuffle = True,\n",
        "                              num_workers = NUM_WORKERS)\n",
        "valid_dataloader = DataLoader(dataset = valid_dataset,\n",
        "                              batch_size = BATCH_SIZE,\n",
        "                              shuffle = True,\n",
        "                              num_workers = NUM_WORKERS)"
      ]
    },
    {
      "cell_type": "code",
      "execution_count": null,
      "metadata": {
        "colab": {
          "base_uri": "https://localhost:8080/"
        },
        "id": "vct4xOsDxzU-",
        "outputId": "31c149f1-9641-4c16-cbf1-9cc33d98e93d"
      },
      "outputs": [
        {
          "data": {
            "text/plain": [
              "(torch.Size([1, 3, 224, 224]), torch.Size([1]))"
            ]
          },
          "execution_count": 14,
          "metadata": {},
          "output_type": "execute_result"
        }
      ],
      "source": [
        "# Let's visualize the dimensions of a batch.\n",
        "batch_images, batch_labels = next(iter(train_dataloader))\n",
        "\n",
        "batch_images.shape, batch_labels.shape"
      ]
    },
    {
      "cell_type": "code",
      "execution_count": null,
      "metadata": {
        "colab": {
          "base_uri": "https://localhost:8080/"
        },
        "id": "Bm-TkMKZx1g-",
        "outputId": "d6fcd0e4-58f1-4347-8c1a-3a3e40f2ab6e"
      },
      "outputs": [
        {
          "name": "stderr",
          "output_type": "stream",
          "text": [
            "Downloading: \"https://download.pytorch.org/models/vit_b_16-c867db91.pth\" to /root/.cache/torch/hub/checkpoints/vit_b_16-c867db91.pth\n",
            "100%|██████████| 330M/330M [00:03<00:00, 99.0MB/s]\n"
          ]
        }
      ],
      "source": [
        "model = vit_b_16(weights = weights)"
      ]
    },
    {
      "cell_type": "code",
      "execution_count": null,
      "metadata": {
        "colab": {
          "base_uri": "https://localhost:8080/"
        },
        "id": "OwR_8JzNx2xH",
        "outputId": "f9effe53-4697-4e64-8e03-f1576052d13e"
      },
      "outputs": [
        {
          "data": {
            "text/plain": [
              "========================================================================================================================\n",
              "Layer (type (var_name))                                      Input Shape     Output Shape    Param #         Trainable\n",
              "========================================================================================================================\n",
              "VisionTransformer (VisionTransformer)                        [1, 3, 224, 224] [1, 1000]       768             True\n",
              "├─Conv2d (conv_proj)                                         [1, 3, 224, 224] [1, 768, 14, 14] 590,592         True\n",
              "├─Encoder (encoder)                                          [1, 197, 768]   [1, 197, 768]   151,296         True\n",
              "│    └─Dropout (dropout)                                     [1, 197, 768]   [1, 197, 768]   --              --\n",
              "│    └─Sequential (layers)                                   [1, 197, 768]   [1, 197, 768]   --              True\n",
              "│    │    └─EncoderBlock (encoder_layer_0)                   [1, 197, 768]   [1, 197, 768]   7,087,872       True\n",
              "│    │    └─EncoderBlock (encoder_layer_1)                   [1, 197, 768]   [1, 197, 768]   7,087,872       True\n",
              "│    │    └─EncoderBlock (encoder_layer_2)                   [1, 197, 768]   [1, 197, 768]   7,087,872       True\n",
              "│    │    └─EncoderBlock (encoder_layer_3)                   [1, 197, 768]   [1, 197, 768]   7,087,872       True\n",
              "│    │    └─EncoderBlock (encoder_layer_4)                   [1, 197, 768]   [1, 197, 768]   7,087,872       True\n",
              "│    │    └─EncoderBlock (encoder_layer_5)                   [1, 197, 768]   [1, 197, 768]   7,087,872       True\n",
              "│    │    └─EncoderBlock (encoder_layer_6)                   [1, 197, 768]   [1, 197, 768]   7,087,872       True\n",
              "│    │    └─EncoderBlock (encoder_layer_7)                   [1, 197, 768]   [1, 197, 768]   7,087,872       True\n",
              "│    │    └─EncoderBlock (encoder_layer_8)                   [1, 197, 768]   [1, 197, 768]   7,087,872       True\n",
              "│    │    └─EncoderBlock (encoder_layer_9)                   [1, 197, 768]   [1, 197, 768]   7,087,872       True\n",
              "│    │    └─EncoderBlock (encoder_layer_10)                  [1, 197, 768]   [1, 197, 768]   7,087,872       True\n",
              "│    │    └─EncoderBlock (encoder_layer_11)                  [1, 197, 768]   [1, 197, 768]   7,087,872       True\n",
              "│    └─LayerNorm (ln)                                        [1, 197, 768]   [1, 197, 768]   1,536           True\n",
              "├─Sequential (heads)                                         [1, 768]        [1, 1000]       --              True\n",
              "│    └─Linear (head)                                         [1, 768]        [1, 1000]       769,000         True\n",
              "========================================================================================================================\n",
              "Total params: 86,567,656\n",
              "Trainable params: 86,567,656\n",
              "Non-trainable params: 0\n",
              "Total mult-adds (M): 173.23\n",
              "========================================================================================================================\n",
              "Input size (MB): 0.60\n",
              "Forward/backward pass size (MB): 104.09\n",
              "Params size (MB): 232.27\n",
              "Estimated Total Size (MB): 336.96\n",
              "========================================================================================================================"
            ]
          },
          "execution_count": 16,
          "metadata": {},
          "output_type": "execute_result"
        }
      ],
      "source": [
        "# Let's visualize the architecture of the model.\n",
        "summary(model = model,\n",
        "        input_size = [1, 3, 224, 224],\n",
        "        col_names = [\"input_size\", \"output_size\", \"num_params\", \"trainable\"],\n",
        "        col_width = 15,\n",
        "        row_settings = [\"var_names\"])"
      ]
    },
    {
      "cell_type": "code",
      "execution_count": null,
      "metadata": {
        "id": "aSNN0f26x5Km"
      },
      "outputs": [],
      "source": [
        "for param in model.conv_proj.parameters():\n",
        "    param.requires_grad = False"
      ]
    },
    {
      "cell_type": "code",
      "execution_count": null,
      "metadata": {
        "colab": {
          "base_uri": "https://localhost:8080/"
        },
        "id": "fbtGzXs9x6_G",
        "outputId": "caeb219f-7ba2-4073-c35e-a8ba51570958"
      },
      "outputs": [
        {
          "data": {
            "text/plain": [
              "========================================================================================================================\n",
              "Layer (type (var_name))                                      Input Shape     Output Shape    Param #         Trainable\n",
              "========================================================================================================================\n",
              "VisionTransformer (VisionTransformer)                        [1, 3, 224, 224] [1, 1000]       768             Partial\n",
              "├─Conv2d (conv_proj)                                         [1, 3, 224, 224] [1, 768, 14, 14] (590,592)       False\n",
              "├─Encoder (encoder)                                          [1, 197, 768]   [1, 197, 768]   151,296         True\n",
              "│    └─Dropout (dropout)                                     [1, 197, 768]   [1, 197, 768]   --              --\n",
              "│    └─Sequential (layers)                                   [1, 197, 768]   [1, 197, 768]   --              True\n",
              "│    │    └─EncoderBlock (encoder_layer_0)                   [1, 197, 768]   [1, 197, 768]   7,087,872       True\n",
              "│    │    └─EncoderBlock (encoder_layer_1)                   [1, 197, 768]   [1, 197, 768]   7,087,872       True\n",
              "│    │    └─EncoderBlock (encoder_layer_2)                   [1, 197, 768]   [1, 197, 768]   7,087,872       True\n",
              "│    │    └─EncoderBlock (encoder_layer_3)                   [1, 197, 768]   [1, 197, 768]   7,087,872       True\n",
              "│    │    └─EncoderBlock (encoder_layer_4)                   [1, 197, 768]   [1, 197, 768]   7,087,872       True\n",
              "│    │    └─EncoderBlock (encoder_layer_5)                   [1, 197, 768]   [1, 197, 768]   7,087,872       True\n",
              "│    │    └─EncoderBlock (encoder_layer_6)                   [1, 197, 768]   [1, 197, 768]   7,087,872       True\n",
              "│    │    └─EncoderBlock (encoder_layer_7)                   [1, 197, 768]   [1, 197, 768]   7,087,872       True\n",
              "│    │    └─EncoderBlock (encoder_layer_8)                   [1, 197, 768]   [1, 197, 768]   7,087,872       True\n",
              "│    │    └─EncoderBlock (encoder_layer_9)                   [1, 197, 768]   [1, 197, 768]   7,087,872       True\n",
              "│    │    └─EncoderBlock (encoder_layer_10)                  [1, 197, 768]   [1, 197, 768]   7,087,872       True\n",
              "│    │    └─EncoderBlock (encoder_layer_11)                  [1, 197, 768]   [1, 197, 768]   7,087,872       True\n",
              "│    └─LayerNorm (ln)                                        [1, 197, 768]   [1, 197, 768]   1,536           True\n",
              "├─Sequential (heads)                                         [1, 768]        [1, 1000]       --              True\n",
              "│    └─Linear (head)                                         [1, 768]        [1, 1000]       769,000         True\n",
              "========================================================================================================================\n",
              "Total params: 86,567,656\n",
              "Trainable params: 85,977,064\n",
              "Non-trainable params: 590,592\n",
              "Total mult-adds (M): 173.23\n",
              "========================================================================================================================\n",
              "Input size (MB): 0.60\n",
              "Forward/backward pass size (MB): 104.09\n",
              "Params size (MB): 232.27\n",
              "Estimated Total Size (MB): 336.96\n",
              "========================================================================================================================"
            ]
          },
          "execution_count": 18,
          "metadata": {},
          "output_type": "execute_result"
        }
      ],
      "source": [
        "# Let's see if the parameters were frozen.\n",
        "summary(model = model,\n",
        "        input_size = [1,3,224,224],\n",
        "        col_names = [\"input_size\", \"output_size\", \"num_params\", \"trainable\"],\n",
        "        col_width = 15,\n",
        "        row_settings = [\"var_names\"])"
      ]
    },
    {
      "cell_type": "code",
      "execution_count": null,
      "metadata": {
        "id": "xhxp8Bbxx9Af"
      },
      "outputs": [],
      "source": [
        "output_shape = len(classes)\n",
        "\n",
        "model.heads = nn.Sequential(OrderedDict([('head', nn.Linear(in_features = 768,\n",
        "                                                            out_features = output_shape))]))"
      ]
    },
    {
      "cell_type": "code",
      "execution_count": null,
      "metadata": {
        "colab": {
          "base_uri": "https://localhost:8080/"
        },
        "id": "bcIkukVex-Z2",
        "outputId": "d354f440-e83d-4f76-8f97-332271b8c1d2"
      },
      "outputs": [
        {
          "data": {
            "text/plain": [
              "========================================================================================================================\n",
              "Layer (type (var_name))                                      Input Shape     Output Shape    Param #         Trainable\n",
              "========================================================================================================================\n",
              "VisionTransformer (VisionTransformer)                        [1, 3, 224, 224] [1, 3]          768             Partial\n",
              "├─Conv2d (conv_proj)                                         [1, 3, 224, 224] [1, 768, 14, 14] (590,592)       False\n",
              "├─Encoder (encoder)                                          [1, 197, 768]   [1, 197, 768]   151,296         True\n",
              "│    └─Dropout (dropout)                                     [1, 197, 768]   [1, 197, 768]   --              --\n",
              "│    └─Sequential (layers)                                   [1, 197, 768]   [1, 197, 768]   --              True\n",
              "│    │    └─EncoderBlock (encoder_layer_0)                   [1, 197, 768]   [1, 197, 768]   7,087,872       True\n",
              "│    │    └─EncoderBlock (encoder_layer_1)                   [1, 197, 768]   [1, 197, 768]   7,087,872       True\n",
              "│    │    └─EncoderBlock (encoder_layer_2)                   [1, 197, 768]   [1, 197, 768]   7,087,872       True\n",
              "│    │    └─EncoderBlock (encoder_layer_3)                   [1, 197, 768]   [1, 197, 768]   7,087,872       True\n",
              "│    │    └─EncoderBlock (encoder_layer_4)                   [1, 197, 768]   [1, 197, 768]   7,087,872       True\n",
              "│    │    └─EncoderBlock (encoder_layer_5)                   [1, 197, 768]   [1, 197, 768]   7,087,872       True\n",
              "│    │    └─EncoderBlock (encoder_layer_6)                   [1, 197, 768]   [1, 197, 768]   7,087,872       True\n",
              "│    │    └─EncoderBlock (encoder_layer_7)                   [1, 197, 768]   [1, 197, 768]   7,087,872       True\n",
              "│    │    └─EncoderBlock (encoder_layer_8)                   [1, 197, 768]   [1, 197, 768]   7,087,872       True\n",
              "│    │    └─EncoderBlock (encoder_layer_9)                   [1, 197, 768]   [1, 197, 768]   7,087,872       True\n",
              "│    │    └─EncoderBlock (encoder_layer_10)                  [1, 197, 768]   [1, 197, 768]   7,087,872       True\n",
              "│    │    └─EncoderBlock (encoder_layer_11)                  [1, 197, 768]   [1, 197, 768]   7,087,872       True\n",
              "│    └─LayerNorm (ln)                                        [1, 197, 768]   [1, 197, 768]   1,536           True\n",
              "├─Sequential (heads)                                         [1, 768]        [1, 3]          --              True\n",
              "│    └─Linear (head)                                         [1, 768]        [1, 3]          2,307           True\n",
              "========================================================================================================================\n",
              "Total params: 85,800,963\n",
              "Trainable params: 85,210,371\n",
              "Non-trainable params: 590,592\n",
              "Total mult-adds (M): 172.47\n",
              "========================================================================================================================\n",
              "Input size (MB): 0.60\n",
              "Forward/backward pass size (MB): 104.09\n",
              "Params size (MB): 229.20\n",
              "Estimated Total Size (MB): 333.89\n",
              "========================================================================================================================"
            ]
          },
          "execution_count": 20,
          "metadata": {},
          "output_type": "execute_result"
        }
      ],
      "source": [
        "# One last time let's take a look if the last layer was modified.\n",
        "summary(model = model,\n",
        "        input_size = [1,3,224,224],\n",
        "        col_names = [\"input_size\", \"output_size\", \"num_params\", \"trainable\"],\n",
        "        col_width = 15,\n",
        "        row_settings = [\"var_names\"])"
      ]
    },
    {
      "cell_type": "code",
      "execution_count": null,
      "metadata": {
        "id": "uMXIMPEJyAd-"
      },
      "outputs": [],
      "source": [
        "loss_fn = nn.CrossEntropyLoss()\n",
        "optimizer = optim.Adam(model.parameters(), lr = 0.01)"
      ]
    },
    {
      "cell_type": "code",
      "execution_count": null,
      "metadata": {
        "id": "yCpergUgyDRm"
      },
      "outputs": [],
      "source": [
        "def train_step(model:torch.nn.Module,\n",
        "               dataloader:torch.utils.data.DataLoader,\n",
        "               loss_fn:torch.nn.Module,\n",
        "               optimizer:torch.optim.Optimizer):\n",
        "\n",
        "    model.train()\n",
        "\n",
        "    train_loss = 0.\n",
        "    train_accuracy = 0.\n",
        "\n",
        "    for batch,(X,y) in enumerate(dataloader):\n",
        "        X,y = X.to(device), y.to(device)\n",
        "        optimizer.zero_grad()\n",
        "        y_pred_logit = model(X)\n",
        "        loss = loss_fn(y_pred_logit, y)\n",
        "        train_loss += loss.item()\n",
        "\n",
        "        loss.backward()\n",
        "        optimizer.step()\n",
        "\n",
        "        y_pred_prob = torch.softmax(y_pred_logit, dim = 1)\n",
        "        y_pred_class = torch.argmax(y_pred_prob, dim = 1)\n",
        "        train_accuracy += accuracy_score(y.cpu().numpy(),\n",
        "                                         y_pred_class.detach().cpu().numpy())\n",
        "\n",
        "    train_loss = train_loss/len(dataloader)\n",
        "    train_accuracy = train_accuracy/len(dataloader)\n",
        "\n",
        "    return train_loss, train_accuracy"
      ]
    },
    {
      "cell_type": "code",
      "execution_count": null,
      "metadata": {
        "id": "DxBdqk05yFaW"
      },
      "outputs": [],
      "source": [
        "def valid_step(model:torch.nn.Module,\n",
        "               dataloader:torch.utils.data.DataLoader,\n",
        "               loss_fn:torch.nn.Module):\n",
        "\n",
        "    model.eval()\n",
        "\n",
        "    valid_loss = 0.\n",
        "    valid_accuracy = 0.\n",
        "\n",
        "    with torch.inference_mode():\n",
        "        for batch,(X,y) in enumerate(dataloader):\n",
        "            X,y = X.to(device), y.to(device)\n",
        "            y_pred_logit = model(X)\n",
        "            loss = loss_fn(y_pred_logit, y)\n",
        "            valid_loss += loss.item()\n",
        "\n",
        "            y_pred_prob = torch.softmax(y_pred_logit, dim = 1)\n",
        "            y_pred_class = torch.argmax(y_pred_prob, dim = 1)\n",
        "\n",
        "            valid_accuracy += accuracy_score(y.cpu().numpy(), y_pred_class.detach().cpu().numpy())\n",
        "\n",
        "    valid_loss = valid_loss/len(dataloader)\n",
        "    valid_accuracy = valid_accuracy/len(dataloader)\n",
        "\n",
        "    return valid_loss, valid_accuracy"
      ]
    },
    {
      "cell_type": "code",
      "execution_count": null,
      "metadata": {
        "id": "x-DdobsOyICu"
      },
      "outputs": [],
      "source": [
        "def train(model:torch.nn.Module,\n",
        "          train_dataloader:torch.utils.data.DataLoader,\n",
        "          valid_dataloader:torch.utils.data.DataLoader,\n",
        "          loss_fn:torch.nn.Module,\n",
        "          optimizer:torch.optim.Optimizer,\n",
        "          epochs:int = 10):\n",
        "\n",
        "    results = {\"train_loss\":[],\n",
        "               \"train_accuracy\":[],\n",
        "               \"valid_loss\":[],\n",
        "               \"valid_accuracy\":[]}\n",
        "\n",
        "    best_valid_loss = float(\"inf\")\n",
        "\n",
        "    for epoch in tqdm(range(epochs)):\n",
        "        train_loss, train_accuracy = train_step(model = model,\n",
        "                                                dataloader = train_dataloader,\n",
        "                                                loss_fn = loss_fn,\n",
        "                                                optimizer = optimizer)\n",
        "\n",
        "        valid_loss, valid_accuracy = valid_step(model = model,\n",
        "                                                dataloader = valid_dataloader,\n",
        "                                                loss_fn = loss_fn)\n",
        "\n",
        "        if valid_loss < best_valid_loss:\n",
        "            best_valid_loss = valid_loss\n",
        "            file_name = \"best_model.pth\"\n",
        "            save_checkpoint(file_name, model, best_valid_loss, epoch, optimizer, valid_accuracy)\n",
        "\n",
        "        print(f\"Epoch: {epoch + 1} | \",\n",
        "              f\"Train Loss: {train_loss:.4f} | \",\n",
        "              f\"Train Accuracy: {train_accuracy:.4f} | \",\n",
        "              f\"Valid Loss: {valid_loss:.4f} | \",\n",
        "              f\"Valid Accuracy: {valid_accuracy:.4f}\")\n",
        "\n",
        "        results[\"train_loss\"].append(train_loss)\n",
        "        results[\"train_accuracy\"].append(train_accuracy)\n",
        "        results[\"valid_loss\"].append(valid_loss)\n",
        "        results[\"valid_accuracy\"].append(valid_accuracy)\n",
        "\n",
        "    return results"
      ]
    },
    {
      "cell_type": "code",
      "execution_count": null,
      "metadata": {
        "id": "uKUy9szW2gur"
      },
      "outputs": [],
      "source": [
        "def save_checkpoint(filename, model, loss, epoch, optimizer, metric):\n",
        "    state = {\"filename\":filename,\n",
        "             \"model\":model.state_dict(),\n",
        "             \"loss\":loss,\n",
        "             \"epoch\":epoch,\n",
        "             \"optimizer\":optimizer.state_dict(),\n",
        "             \"metric\":metric}\n",
        "\n",
        "    torch.save(state, filename)"
      ]
    },
    {
      "cell_type": "code",
      "execution_count": null,
      "metadata": {
        "colab": {
          "background_save": true,
          "base_uri": "https://localhost:8080/",
          "height": 1000,
          "referenced_widgets": [
            "cc6a2dcb3ea3400f8b09a01a2839b47d",
            "0f1a5145aee24db6805c1e9bd10e613f",
            "95c0691203ba4783a55a22833bb58a3c",
            "e63fd9b787c24972be233c088631a6c0",
            "6f8d2d73da234b1db4a9cc3fcec7b170",
            "9dc034a02bd8429b901e802186c2b350",
            "bd2d05db4537406ebd3c76b63a0e7ee9",
            "6500410756064e7198485f77c68337d9",
            "a19185a0b583490ca5ee3cdad1f4940c",
            "3bc6bbae6deb4cdba7fff8a62fd553a0",
            "a6ce593db31345b384b5fd8edeccc2e8"
          ]
        },
        "id": "RKCvBsuUyKjm",
        "outputId": "fb4bd484-64a0-4d57-d639-ace9981ff588"
      },
      "outputs": [
        {
          "data": {
            "application/vnd.jupyter.widget-view+json": {
              "model_id": "cc6a2dcb3ea3400f8b09a01a2839b47d",
              "version_major": 2,
              "version_minor": 0
            },
            "text/plain": [
              "  0%|          | 0/100 [00:00<?, ?it/s]"
            ]
          },
          "metadata": {},
          "output_type": "display_data"
        },
        {
          "name": "stdout",
          "output_type": "stream",
          "text": [
            "Epoch: 1 |  Train Loss: 1.4334 |  Train Accuracy: 0.2167 |  Valid Loss: 1.1052 |  Valid Accuracy: 0.3077\n",
            "Epoch: 2 |  Train Loss: 1.1787 |  Train Accuracy: 0.2667 |  Valid Loss: 1.1310 |  Valid Accuracy: 0.3077\n",
            "Epoch: 3 |  Train Loss: 1.1763 |  Train Accuracy: 0.3000 |  Valid Loss: 1.1293 |  Valid Accuracy: 0.3077\n",
            "Epoch: 4 |  Train Loss: 1.1367 |  Train Accuracy: 0.3167 |  Valid Loss: 1.0973 |  Valid Accuracy: 0.3846\n",
            "Epoch: 5 |  Train Loss: 1.1359 |  Train Accuracy: 0.2667 |  Valid Loss: 1.1069 |  Valid Accuracy: 0.3846\n",
            "Epoch: 6 |  Train Loss: 1.1556 |  Train Accuracy: 0.2500 |  Valid Loss: 1.1088 |  Valid Accuracy: 0.3077\n",
            "Epoch: 7 |  Train Loss: 1.1735 |  Train Accuracy: 0.2500 |  Valid Loss: 1.1112 |  Valid Accuracy: 0.3846\n",
            "Epoch: 8 |  Train Loss: 1.1548 |  Train Accuracy: 0.2667 |  Valid Loss: 1.1205 |  Valid Accuracy: 0.3077\n",
            "Epoch: 9 |  Train Loss: 1.1159 |  Train Accuracy: 0.3333 |  Valid Loss: 1.1069 |  Valid Accuracy: 0.3077\n",
            "Epoch: 10 |  Train Loss: 1.1164 |  Train Accuracy: 0.3667 |  Valid Loss: 1.0930 |  Valid Accuracy: 0.3846\n",
            "Epoch: 11 |  Train Loss: 1.1546 |  Train Accuracy: 0.3167 |  Valid Loss: 1.1161 |  Valid Accuracy: 0.3846\n",
            "Epoch: 12 |  Train Loss: 1.1752 |  Train Accuracy: 0.3500 |  Valid Loss: 1.5252 |  Valid Accuracy: 0.3077\n",
            "Epoch: 13 |  Train Loss: 1.2651 |  Train Accuracy: 0.3500 |  Valid Loss: 1.1520 |  Valid Accuracy: 0.3077\n",
            "Epoch: 14 |  Train Loss: 1.1641 |  Train Accuracy: 0.3167 |  Valid Loss: 1.1080 |  Valid Accuracy: 0.3077\n",
            "Epoch: 15 |  Train Loss: 1.1437 |  Train Accuracy: 0.3667 |  Valid Loss: 1.1040 |  Valid Accuracy: 0.3077\n",
            "Epoch: 16 |  Train Loss: 1.1245 |  Train Accuracy: 0.3000 |  Valid Loss: 1.1051 |  Valid Accuracy: 0.3077\n",
            "Epoch: 17 |  Train Loss: 1.1050 |  Train Accuracy: 0.3500 |  Valid Loss: 1.1010 |  Valid Accuracy: 0.3077\n",
            "Epoch: 18 |  Train Loss: 1.1018 |  Train Accuracy: 0.3500 |  Valid Loss: 1.0987 |  Valid Accuracy: 0.3077\n",
            "Epoch: 19 |  Train Loss: 1.1030 |  Train Accuracy: 0.3167 |  Valid Loss: 1.0970 |  Valid Accuracy: 0.3846\n",
            "Epoch: 20 |  Train Loss: 1.0999 |  Train Accuracy: 0.2833 |  Valid Loss: 1.0981 |  Valid Accuracy: 0.3077\n",
            "Epoch: 21 |  Train Loss: 1.1037 |  Train Accuracy: 0.3000 |  Valid Loss: 1.0973 |  Valid Accuracy: 0.3077\n",
            "Epoch: 22 |  Train Loss: 1.1117 |  Train Accuracy: 0.2500 |  Valid Loss: 1.0963 |  Valid Accuracy: 0.3846\n",
            "Epoch: 23 |  Train Loss: 1.1111 |  Train Accuracy: 0.3500 |  Valid Loss: 1.1020 |  Valid Accuracy: 0.3077\n",
            "Epoch: 24 |  Train Loss: 1.1097 |  Train Accuracy: 0.3333 |  Valid Loss: 1.0985 |  Valid Accuracy: 0.3077\n",
            "Epoch: 25 |  Train Loss: 1.1044 |  Train Accuracy: 0.3167 |  Valid Loss: 1.0980 |  Valid Accuracy: 0.3077\n",
            "Epoch: 26 |  Train Loss: 1.1237 |  Train Accuracy: 0.3500 |  Valid Loss: 1.1027 |  Valid Accuracy: 0.3846\n",
            "Epoch: 27 |  Train Loss: 1.2228 |  Train Accuracy: 0.4000 |  Valid Loss: 1.2714 |  Valid Accuracy: 0.3846\n",
            "Epoch: 28 |  Train Loss: 1.1843 |  Train Accuracy: 0.3000 |  Valid Loss: 1.1682 |  Valid Accuracy: 0.3077\n",
            "Epoch: 29 |  Train Loss: 1.1674 |  Train Accuracy: 0.3333 |  Valid Loss: 1.0930 |  Valid Accuracy: 0.3846\n",
            "Epoch: 30 |  Train Loss: 1.1594 |  Train Accuracy: 0.2833 |  Valid Loss: 1.3210 |  Valid Accuracy: 0.3077\n",
            "Epoch: 31 |  Train Loss: 1.2621 |  Train Accuracy: 0.2667 |  Valid Loss: 1.1092 |  Valid Accuracy: 0.3077\n",
            "Epoch: 32 |  Train Loss: 1.1399 |  Train Accuracy: 0.3833 |  Valid Loss: 1.1251 |  Valid Accuracy: 0.3077\n",
            "Epoch: 33 |  Train Loss: 1.1292 |  Train Accuracy: 0.3667 |  Valid Loss: 1.1936 |  Valid Accuracy: 0.3077\n",
            "Epoch: 34 |  Train Loss: 1.1333 |  Train Accuracy: 0.4000 |  Valid Loss: 1.1518 |  Valid Accuracy: 0.3077\n",
            "Epoch: 35 |  Train Loss: 1.1146 |  Train Accuracy: 0.3000 |  Valid Loss: 1.1129 |  Valid Accuracy: 0.3077\n",
            "Epoch: 36 |  Train Loss: 1.1121 |  Train Accuracy: 0.2667 |  Valid Loss: 1.0964 |  Valid Accuracy: 0.3846\n",
            "Epoch: 37 |  Train Loss: 1.1198 |  Train Accuracy: 0.3000 |  Valid Loss: 1.0974 |  Valid Accuracy: 0.3846\n",
            "Epoch: 38 |  Train Loss: 1.1146 |  Train Accuracy: 0.2667 |  Valid Loss: 1.0958 |  Valid Accuracy: 0.3846\n",
            "Epoch: 39 |  Train Loss: 1.1139 |  Train Accuracy: 0.3333 |  Valid Loss: 1.0948 |  Valid Accuracy: 0.3846\n",
            "Epoch: 40 |  Train Loss: 1.0747 |  Train Accuracy: 0.3833 |  Valid Loss: 2.0723 |  Valid Accuracy: 0.3077\n",
            "Epoch: 41 |  Train Loss: 1.3218 |  Train Accuracy: 0.3167 |  Valid Loss: 1.4054 |  Valid Accuracy: 0.3077\n",
            "Epoch: 42 |  Train Loss: 1.3764 |  Train Accuracy: 0.3333 |  Valid Loss: 1.1123 |  Valid Accuracy: 0.3846\n",
            "Epoch: 43 |  Train Loss: 1.1732 |  Train Accuracy: 0.2833 |  Valid Loss: 1.1046 |  Valid Accuracy: 0.3077\n",
            "Epoch: 44 |  Train Loss: 1.1118 |  Train Accuracy: 0.3500 |  Valid Loss: 1.1198 |  Valid Accuracy: 0.3077\n",
            "Epoch: 45 |  Train Loss: 1.1143 |  Train Accuracy: 0.3500 |  Valid Loss: 1.0950 |  Valid Accuracy: 0.3846\n",
            "Epoch: 46 |  Train Loss: 1.1195 |  Train Accuracy: 0.3333 |  Valid Loss: 1.0963 |  Valid Accuracy: 0.3846\n",
            "Epoch: 47 |  Train Loss: 1.2103 |  Train Accuracy: 0.3000 |  Valid Loss: 1.3050 |  Valid Accuracy: 0.3077\n",
            "Epoch: 48 |  Train Loss: 1.1485 |  Train Accuracy: 0.3167 |  Valid Loss: 1.0987 |  Valid Accuracy: 0.3077\n",
            "Epoch: 49 |  Train Loss: 1.1114 |  Train Accuracy: 0.3667 |  Valid Loss: 1.1096 |  Valid Accuracy: 0.3077\n",
            "Epoch: 50 |  Train Loss: 1.1612 |  Train Accuracy: 0.3167 |  Valid Loss: 1.0933 |  Valid Accuracy: 0.3846\n",
            "Epoch: 51 |  Train Loss: 1.1956 |  Train Accuracy: 0.3667 |  Valid Loss: 1.8264 |  Valid Accuracy: 0.3077\n",
            "Epoch: 52 |  Train Loss: 1.3096 |  Train Accuracy: 0.3333 |  Valid Loss: 1.1305 |  Valid Accuracy: 0.3077\n",
            "Epoch: 53 |  Train Loss: 1.1733 |  Train Accuracy: 0.3333 |  Valid Loss: 1.1001 |  Valid Accuracy: 0.3846\n",
            "Epoch: 54 |  Train Loss: 1.1551 |  Train Accuracy: 0.2500 |  Valid Loss: 1.0971 |  Valid Accuracy: 0.3846\n",
            "Epoch: 55 |  Train Loss: 1.2174 |  Train Accuracy: 0.4000 |  Valid Loss: 1.0947 |  Valid Accuracy: 0.3846\n",
            "Epoch: 56 |  Train Loss: 1.2272 |  Train Accuracy: 0.3667 |  Valid Loss: 1.1051 |  Valid Accuracy: 0.3846\n",
            "Epoch: 57 |  Train Loss: 1.1459 |  Train Accuracy: 0.4500 |  Valid Loss: 1.2955 |  Valid Accuracy: 0.3077\n",
            "Epoch: 58 |  Train Loss: 1.1797 |  Train Accuracy: 0.3667 |  Valid Loss: 1.1428 |  Valid Accuracy: 0.3077\n",
            "Epoch: 59 |  Train Loss: 1.2160 |  Train Accuracy: 0.3500 |  Valid Loss: 1.1636 |  Valid Accuracy: 0.3077\n",
            "Epoch: 60 |  Train Loss: 1.1443 |  Train Accuracy: 0.3333 |  Valid Loss: 1.1671 |  Valid Accuracy: 0.3077\n",
            "Epoch: 61 |  Train Loss: 1.1406 |  Train Accuracy: 0.2833 |  Valid Loss: 1.0984 |  Valid Accuracy: 0.3846\n",
            "Epoch: 62 |  Train Loss: 1.1672 |  Train Accuracy: 0.4000 |  Valid Loss: 1.0988 |  Valid Accuracy: 0.3846\n",
            "Epoch: 63 |  Train Loss: 1.1184 |  Train Accuracy: 0.3500 |  Valid Loss: 1.0934 |  Valid Accuracy: 0.3846\n",
            "Epoch: 64 |  Train Loss: 1.1208 |  Train Accuracy: 0.3000 |  Valid Loss: 1.0984 |  Valid Accuracy: 0.3846\n",
            "Epoch: 65 |  Train Loss: 1.1174 |  Train Accuracy: 0.3500 |  Valid Loss: 1.1327 |  Valid Accuracy: 0.3077\n",
            "Epoch: 66 |  Train Loss: 1.1357 |  Train Accuracy: 0.3500 |  Valid Loss: 1.1076 |  Valid Accuracy: 0.3077\n",
            "Epoch: 67 |  Train Loss: 1.1202 |  Train Accuracy: 0.2833 |  Valid Loss: 1.0995 |  Valid Accuracy: 0.3077\n",
            "Epoch: 68 |  Train Loss: 1.1013 |  Train Accuracy: 0.2500 |  Valid Loss: 1.0971 |  Valid Accuracy: 0.3846\n",
            "Epoch: 69 |  Train Loss: 1.1021 |  Train Accuracy: 0.3333 |  Valid Loss: 1.0973 |  Valid Accuracy: 0.3077\n",
            "Epoch: 70 |  Train Loss: 1.1031 |  Train Accuracy: 0.3167 |  Valid Loss: 1.0989 |  Valid Accuracy: 0.3077\n",
            "Epoch: 71 |  Train Loss: 1.1122 |  Train Accuracy: 0.2667 |  Valid Loss: 1.1033 |  Valid Accuracy: 0.3077\n",
            "Epoch: 72 |  Train Loss: 1.1888 |  Train Accuracy: 0.3500 |  Valid Loss: 1.1205 |  Valid Accuracy: 0.3846\n",
            "Epoch: 73 |  Train Loss: 1.1851 |  Train Accuracy: 0.3500 |  Valid Loss: 1.1122 |  Valid Accuracy: 0.3846\n",
            "Epoch: 74 |  Train Loss: 1.1490 |  Train Accuracy: 0.4000 |  Valid Loss: 1.0955 |  Valid Accuracy: 0.3846\n",
            "Epoch: 75 |  Train Loss: 1.1182 |  Train Accuracy: 0.2667 |  Valid Loss: 1.0985 |  Valid Accuracy: 0.3077\n",
            "Epoch: 76 |  Train Loss: 1.1111 |  Train Accuracy: 0.3333 |  Valid Loss: 1.0968 |  Valid Accuracy: 0.3846\n",
            "Epoch: 77 |  Train Loss: 1.1225 |  Train Accuracy: 0.3500 |  Valid Loss: 1.0989 |  Valid Accuracy: 0.3077\n",
            "Epoch: 78 |  Train Loss: 1.1589 |  Train Accuracy: 0.3833 |  Valid Loss: 1.1218 |  Valid Accuracy: 0.3077\n",
            "Epoch: 79 |  Train Loss: 1.1512 |  Train Accuracy: 0.2833 |  Valid Loss: 1.1027 |  Valid Accuracy: 0.3077\n",
            "Epoch: 80 |  Train Loss: 1.1448 |  Train Accuracy: 0.3500 |  Valid Loss: 1.1104 |  Valid Accuracy: 0.3077\n",
            "Epoch: 81 |  Train Loss: 1.1206 |  Train Accuracy: 0.3500 |  Valid Loss: 1.0968 |  Valid Accuracy: 0.3846\n",
            "Epoch: 82 |  Train Loss: 1.1316 |  Train Accuracy: 0.3833 |  Valid Loss: 1.1361 |  Valid Accuracy: 0.3846\n",
            "Epoch: 83 |  Train Loss: 1.1152 |  Train Accuracy: 0.3167 |  Valid Loss: 1.0932 |  Valid Accuracy: 0.3846\n"
          ]
        }
      ],
      "source": [
        "import torch\n",
        "\n",
        "# Check if GPU is available, else use CPU\n",
        "device = torch.device('cuda' if torch.cuda.is_available() else 'cpu')\n",
        "\n",
        "# Set seed for reproducibility\n",
        "torch.cuda.manual_seed(SEED)\n",
        "torch.manual_seed(SEED)\n",
        "\n",
        "# Training code goes here\n",
        "EPOCHS = 100\n",
        "\n",
        "MODEL_RESULTS = train(model.to(device),\n",
        "                      train_dataloader,\n",
        "                      valid_dataloader,\n",
        "                      loss_fn,\n",
        "                      optimizer,\n",
        "                      EPOCHS)\n"
      ]
    },
    {
      "cell_type": "code",
      "execution_count": null,
      "metadata": {
        "id": "cGb9WZWeyOJe"
      },
      "outputs": [],
      "source": [
        "# Function to plot the loss and metric during each training epoch.\n",
        "def loss_metric_curve_plot(model_results:Dict[str,List[float]]):\n",
        "\n",
        "    train_loss = model_results[\"train_loss\"]\n",
        "    valid_loss = model_results[\"valid_loss\"]\n",
        "\n",
        "    train_accuracy = [float(value) for value in model_results[\"train_accuracy\"]]\n",
        "    valid_accuracy = [float(value) for value in model_results[\"valid_accuracy\"]]\n",
        "\n",
        "    fig,axes = plt.subplots(nrows = 1, ncols = 2, figsize = (10,4))\n",
        "    axes = axes.flat\n",
        "\n",
        "    axes[0].plot(train_loss, color = \"red\", label = \"Train\")\n",
        "    axes[0].plot(valid_loss, color = \"blue\", label = \"Valid\")\n",
        "    axes[0].set_title(\"CrossEntropyLoss\", fontsize = 12, fontweight = \"bold\", color = \"black\")\n",
        "    axes[0].set_xlabel(\"Epochs\", fontsize = 10, fontweight = \"bold\", color = \"black\")\n",
        "    axes[0].set_ylabel(\"Loss\", fontsize = 10, fontweight = \"bold\", color = \"black\")\n",
        "    axes[0].legend()\n",
        "\n",
        "    axes[1].plot(train_accuracy, color = \"red\", label = \"Train\")\n",
        "    axes[1].plot(valid_accuracy, color = \"blue\", label = \"Valid\")\n",
        "    axes[1].set_title(\"Metric of performance: Accuracy\", fontsize = 12, fontweight = \"bold\", color = \"black\")\n",
        "    axes[1].set_xlabel(\"Epochs\", fontsize = 10, fontweight = \"bold\", color = \"black\")\n",
        "    axes[1].set_ylabel(\"Score\", fontsize = 10, fontweight = \"bold\", color = \"black\")\n",
        "    axes[1].legend()\n",
        "\n",
        "    fig.tight_layout()\n",
        "    fig.show()"
      ]
    },
    {
      "cell_type": "code",
      "execution_count": null,
      "metadata": {
        "id": "KKsJknWAyPxX"
      },
      "outputs": [],
      "source": [
        "# Let's load the best model.\n",
        "checkpoint_path = \"/kaggle/working/best_model.pth\"\n",
        "checkpoint = torch.load(checkpoint_path)"
      ]
    },
    {
      "cell_type": "code",
      "execution_count": null,
      "metadata": {
        "id": "Wlwxxre-yRK-"
      },
      "outputs": [],
      "source": [
        "# Now let's look at the smallest loss, its metric and when it occurred.\n",
        "print(f'Best Loss: {checkpoint[\"loss\"]}')\n",
        "print(f'Epoch: {checkpoint[\"epoch\"] + 1}')\n",
        "print(f'Best Metric: {checkpoint[\"metric\"]}')"
      ]
    },
    {
      "cell_type": "code",
      "execution_count": null,
      "metadata": {
        "id": "iqTEBTlQySue"
      },
      "outputs": [],
      "source": [
        "# First of all, we create the Dataset, DataLoader\n",
        "test_dataset = CustomDataset(df_test, auto_transforms, label_map)\n",
        "test_dataloader = DataLoader(dataset = test_dataset, shuffle = False, num_workers = NUM_WORKERS)"
      ]
    },
    {
      "cell_type": "code",
      "execution_count": null,
      "metadata": {
        "id": "iZpL2GpeyUmG"
      },
      "outputs": [],
      "source": [
        "# We define the model again with its respective modification.\n",
        "loaded_model = vit_b_16()\n",
        "\n",
        "loaded_model.heads = nn.Sequential(OrderedDict([('head',nn.Linear(in_features = 768,\n",
        "                                                                  out_features = output_shape))]))\n",
        "\n",
        "loaded_model.load_state_dict(checkpoint[\"model\"])\n",
        "\n",
        "# We now infer\n",
        "loaded_model.to(device)\n",
        "\n",
        "loaded_model.eval()\n",
        "\n",
        "y_pred_test = []\n",
        "\n",
        "with torch.inference_mode():\n",
        "    for X,y in tqdm(test_dataloader):\n",
        "        X,y = X.to(device), y.to(device)\n",
        "        y_pred_logit = loaded_model(X)\n",
        "        y_pred_prob = torch.softmax(y_pred_logit, dim = 1)\n",
        "        y_pred_class = torch.argmax(y_pred_prob, dim = 1)\n",
        "        y_pred_test.append(y_pred_class.detach().cpu())"
      ]
    },
    {
      "cell_type": "code",
      "execution_count": null,
      "metadata": {
        "id": "r-GMj_gsyWIm"
      },
      "outputs": [],
      "source": [
        "y_pred_test = torch.cat(y_pred_test).numpy()"
      ]
    },
    {
      "cell_type": "code",
      "execution_count": null,
      "metadata": {
        "id": "qmY297guyXnV"
      },
      "outputs": [],
      "source": [
        "print(f'Accuracy = {round(accuracy_score(df_test[\"label\"].map(label_map), y_pred_test), 4)}')"
      ]
    },
    {
      "cell_type": "code",
      "execution_count": null,
      "metadata": {
        "id": "lcEvYfnmyZBe"
      },
      "outputs": [],
      "source": [
        "confusion_matrix_test = confusion_matrix(df_test[\"label\"].map(label_map), y_pred_test)"
      ]
    },
    {
      "cell_type": "code",
      "execution_count": null,
      "metadata": {
        "id": "UC5ishx3ya1G"
      },
      "outputs": [],
      "source": [
        "fig,ax = plt.subplots(figsize = (15,4))\n",
        "sns.heatmap(confusion_matrix_test,\n",
        "            cmap = 'coolwarm',\n",
        "            annot = True,\n",
        "            annot_kws = {\"fontsize\":9, \"fontweight\":\"bold\"},\n",
        "            linewidths = 1.2,\n",
        "            linecolor = \"black\",\n",
        "            square = True,\n",
        "            xticklabels = classes,\n",
        "            yticklabels = classes,\n",
        "            cbar = False,\n",
        "            ax = ax)\n",
        "ax.set_title(\"Confusion Matrix Test\", fontsize = 10, fontweight = \"bold\", color = \"darkblue\")\n",
        "ax.tick_params('x',rotation = 90)\n",
        "fig.show()"
      ]
    }
  ],
  "metadata": {
    "colab": {
      "provenance": [],
      "include_colab_link": true
    },
    "kernelspec": {
      "display_name": "Python 3",
      "name": "python3"
    },
    "language_info": {
      "name": "python"
    },
    "widgets": {
      "application/vnd.jupyter.widget-state+json": {
        "0f1a5145aee24db6805c1e9bd10e613f": {
          "model_module": "@jupyter-widgets/controls",
          "model_module_version": "1.5.0",
          "model_name": "HTMLModel",
          "state": {
            "_dom_classes": [],
            "_model_module": "@jupyter-widgets/controls",
            "_model_module_version": "1.5.0",
            "_model_name": "HTMLModel",
            "_view_count": null,
            "_view_module": "@jupyter-widgets/controls",
            "_view_module_version": "1.5.0",
            "_view_name": "HTMLView",
            "description": "",
            "description_tooltip": null,
            "layout": "IPY_MODEL_9dc034a02bd8429b901e802186c2b350",
            "placeholder": "​",
            "style": "IPY_MODEL_bd2d05db4537406ebd3c76b63a0e7ee9",
            "value": " 71%"
          }
        },
        "3bc6bbae6deb4cdba7fff8a62fd553a0": {
          "model_module": "@jupyter-widgets/base",
          "model_module_version": "1.2.0",
          "model_name": "LayoutModel",
          "state": {
            "_model_module": "@jupyter-widgets/base",
            "_model_module_version": "1.2.0",
            "_model_name": "LayoutModel",
            "_view_count": null,
            "_view_module": "@jupyter-widgets/base",
            "_view_module_version": "1.2.0",
            "_view_name": "LayoutView",
            "align_content": null,
            "align_items": null,
            "align_self": null,
            "border": null,
            "bottom": null,
            "display": null,
            "flex": null,
            "flex_flow": null,
            "grid_area": null,
            "grid_auto_columns": null,
            "grid_auto_flow": null,
            "grid_auto_rows": null,
            "grid_column": null,
            "grid_gap": null,
            "grid_row": null,
            "grid_template_areas": null,
            "grid_template_columns": null,
            "grid_template_rows": null,
            "height": null,
            "justify_content": null,
            "justify_items": null,
            "left": null,
            "margin": null,
            "max_height": null,
            "max_width": null,
            "min_height": null,
            "min_width": null,
            "object_fit": null,
            "object_position": null,
            "order": null,
            "overflow": null,
            "overflow_x": null,
            "overflow_y": null,
            "padding": null,
            "right": null,
            "top": null,
            "visibility": null,
            "width": null
          }
        },
        "6500410756064e7198485f77c68337d9": {
          "model_module": "@jupyter-widgets/base",
          "model_module_version": "1.2.0",
          "model_name": "LayoutModel",
          "state": {
            "_model_module": "@jupyter-widgets/base",
            "_model_module_version": "1.2.0",
            "_model_name": "LayoutModel",
            "_view_count": null,
            "_view_module": "@jupyter-widgets/base",
            "_view_module_version": "1.2.0",
            "_view_name": "LayoutView",
            "align_content": null,
            "align_items": null,
            "align_self": null,
            "border": null,
            "bottom": null,
            "display": null,
            "flex": null,
            "flex_flow": null,
            "grid_area": null,
            "grid_auto_columns": null,
            "grid_auto_flow": null,
            "grid_auto_rows": null,
            "grid_column": null,
            "grid_gap": null,
            "grid_row": null,
            "grid_template_areas": null,
            "grid_template_columns": null,
            "grid_template_rows": null,
            "height": null,
            "justify_content": null,
            "justify_items": null,
            "left": null,
            "margin": null,
            "max_height": null,
            "max_width": null,
            "min_height": null,
            "min_width": null,
            "object_fit": null,
            "object_position": null,
            "order": null,
            "overflow": null,
            "overflow_x": null,
            "overflow_y": null,
            "padding": null,
            "right": null,
            "top": null,
            "visibility": null,
            "width": null
          }
        },
        "6f8d2d73da234b1db4a9cc3fcec7b170": {
          "model_module": "@jupyter-widgets/base",
          "model_module_version": "1.2.0",
          "model_name": "LayoutModel",
          "state": {
            "_model_module": "@jupyter-widgets/base",
            "_model_module_version": "1.2.0",
            "_model_name": "LayoutModel",
            "_view_count": null,
            "_view_module": "@jupyter-widgets/base",
            "_view_module_version": "1.2.0",
            "_view_name": "LayoutView",
            "align_content": null,
            "align_items": null,
            "align_self": null,
            "border": null,
            "bottom": null,
            "display": null,
            "flex": null,
            "flex_flow": null,
            "grid_area": null,
            "grid_auto_columns": null,
            "grid_auto_flow": null,
            "grid_auto_rows": null,
            "grid_column": null,
            "grid_gap": null,
            "grid_row": null,
            "grid_template_areas": null,
            "grid_template_columns": null,
            "grid_template_rows": null,
            "height": null,
            "justify_content": null,
            "justify_items": null,
            "left": null,
            "margin": null,
            "max_height": null,
            "max_width": null,
            "min_height": null,
            "min_width": null,
            "object_fit": null,
            "object_position": null,
            "order": null,
            "overflow": null,
            "overflow_x": null,
            "overflow_y": null,
            "padding": null,
            "right": null,
            "top": null,
            "visibility": null,
            "width": null
          }
        },
        "95c0691203ba4783a55a22833bb58a3c": {
          "model_module": "@jupyter-widgets/controls",
          "model_module_version": "1.5.0",
          "model_name": "FloatProgressModel",
          "state": {
            "_dom_classes": [],
            "_model_module": "@jupyter-widgets/controls",
            "_model_module_version": "1.5.0",
            "_model_name": "FloatProgressModel",
            "_view_count": null,
            "_view_module": "@jupyter-widgets/controls",
            "_view_module_version": "1.5.0",
            "_view_name": "ProgressView",
            "bar_style": "",
            "description": "",
            "description_tooltip": null,
            "layout": "IPY_MODEL_6500410756064e7198485f77c68337d9",
            "max": 100,
            "min": 0,
            "orientation": "horizontal",
            "style": "IPY_MODEL_a19185a0b583490ca5ee3cdad1f4940c",
            "value": 71
          }
        },
        "9dc034a02bd8429b901e802186c2b350": {
          "model_module": "@jupyter-widgets/base",
          "model_module_version": "1.2.0",
          "model_name": "LayoutModel",
          "state": {
            "_model_module": "@jupyter-widgets/base",
            "_model_module_version": "1.2.0",
            "_model_name": "LayoutModel",
            "_view_count": null,
            "_view_module": "@jupyter-widgets/base",
            "_view_module_version": "1.2.0",
            "_view_name": "LayoutView",
            "align_content": null,
            "align_items": null,
            "align_self": null,
            "border": null,
            "bottom": null,
            "display": null,
            "flex": null,
            "flex_flow": null,
            "grid_area": null,
            "grid_auto_columns": null,
            "grid_auto_flow": null,
            "grid_auto_rows": null,
            "grid_column": null,
            "grid_gap": null,
            "grid_row": null,
            "grid_template_areas": null,
            "grid_template_columns": null,
            "grid_template_rows": null,
            "height": null,
            "justify_content": null,
            "justify_items": null,
            "left": null,
            "margin": null,
            "max_height": null,
            "max_width": null,
            "min_height": null,
            "min_width": null,
            "object_fit": null,
            "object_position": null,
            "order": null,
            "overflow": null,
            "overflow_x": null,
            "overflow_y": null,
            "padding": null,
            "right": null,
            "top": null,
            "visibility": null,
            "width": null
          }
        },
        "a19185a0b583490ca5ee3cdad1f4940c": {
          "model_module": "@jupyter-widgets/controls",
          "model_module_version": "1.5.0",
          "model_name": "ProgressStyleModel",
          "state": {
            "_model_module": "@jupyter-widgets/controls",
            "_model_module_version": "1.5.0",
            "_model_name": "ProgressStyleModel",
            "_view_count": null,
            "_view_module": "@jupyter-widgets/base",
            "_view_module_version": "1.2.0",
            "_view_name": "StyleView",
            "bar_color": null,
            "description_width": ""
          }
        },
        "a6ce593db31345b384b5fd8edeccc2e8": {
          "model_module": "@jupyter-widgets/controls",
          "model_module_version": "1.5.0",
          "model_name": "DescriptionStyleModel",
          "state": {
            "_model_module": "@jupyter-widgets/controls",
            "_model_module_version": "1.5.0",
            "_model_name": "DescriptionStyleModel",
            "_view_count": null,
            "_view_module": "@jupyter-widgets/base",
            "_view_module_version": "1.2.0",
            "_view_name": "StyleView",
            "description_width": ""
          }
        },
        "bd2d05db4537406ebd3c76b63a0e7ee9": {
          "model_module": "@jupyter-widgets/controls",
          "model_module_version": "1.5.0",
          "model_name": "DescriptionStyleModel",
          "state": {
            "_model_module": "@jupyter-widgets/controls",
            "_model_module_version": "1.5.0",
            "_model_name": "DescriptionStyleModel",
            "_view_count": null,
            "_view_module": "@jupyter-widgets/base",
            "_view_module_version": "1.2.0",
            "_view_name": "StyleView",
            "description_width": ""
          }
        },
        "cc6a2dcb3ea3400f8b09a01a2839b47d": {
          "model_module": "@jupyter-widgets/controls",
          "model_module_version": "1.5.0",
          "model_name": "HBoxModel",
          "state": {
            "_dom_classes": [],
            "_model_module": "@jupyter-widgets/controls",
            "_model_module_version": "1.5.0",
            "_model_name": "HBoxModel",
            "_view_count": null,
            "_view_module": "@jupyter-widgets/controls",
            "_view_module_version": "1.5.0",
            "_view_name": "HBoxView",
            "box_style": "",
            "children": [
              "IPY_MODEL_0f1a5145aee24db6805c1e9bd10e613f",
              "IPY_MODEL_95c0691203ba4783a55a22833bb58a3c",
              "IPY_MODEL_e63fd9b787c24972be233c088631a6c0"
            ],
            "layout": "IPY_MODEL_6f8d2d73da234b1db4a9cc3fcec7b170"
          }
        },
        "e63fd9b787c24972be233c088631a6c0": {
          "model_module": "@jupyter-widgets/controls",
          "model_module_version": "1.5.0",
          "model_name": "HTMLModel",
          "state": {
            "_dom_classes": [],
            "_model_module": "@jupyter-widgets/controls",
            "_model_module_version": "1.5.0",
            "_model_name": "HTMLModel",
            "_view_count": null,
            "_view_module": "@jupyter-widgets/controls",
            "_view_module_version": "1.5.0",
            "_view_name": "HTMLView",
            "description": "",
            "description_tooltip": null,
            "layout": "IPY_MODEL_3bc6bbae6deb4cdba7fff8a62fd553a0",
            "placeholder": "​",
            "style": "IPY_MODEL_a6ce593db31345b384b5fd8edeccc2e8",
            "value": " 71/100 [4:18:37&lt;1:39:45, 206.38s/it]"
          }
        }
      }
    }
  },
  "nbformat": 4,
  "nbformat_minor": 0
}